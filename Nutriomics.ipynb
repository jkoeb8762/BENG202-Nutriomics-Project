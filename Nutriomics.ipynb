{
 "cells": [
  {
   "cell_type": "code",
   "execution_count": 1,
   "id": "b39354d4",
   "metadata": {
    "scrolled": true
   },
   "outputs": [],
   "source": [
    "import pandas as pd\n",
    "import numpy as np"
   ]
  },
  {
   "cell_type": "code",
   "execution_count": 2,
   "id": "380ba60c",
   "metadata": {},
   "outputs": [],
   "source": [
    "def p2f(x):\n",
    "    return (float(x.strip('%'))/100 for col in columns)"
   ]
  },
  {
   "cell_type": "code",
   "execution_count": 15,
   "id": "b0b82149",
   "metadata": {},
   "outputs": [],
   "source": [
    "metadata = pd.read_csv('data/metadata.csv', usecols = ['sample-id', 'group'])\n",
    "nim_aminoacids = pd.read_csv('data/nim-aminoacids_400.csv', index_col=0)\n",
    "#Per data description, limit the choice of amino acids as nutrients by the first 6\n",
    "nim_aminoacids = nim_aminoacids.drop(nim_aminoacids.iloc[:, 7:], axis = 1)\n",
    "nim_aminoacidsD = pd.read_csv('data/nim-aminoacidsD_400.csv', index_col=0)\n",
    "nim_sugars = pd.read_csv('data/nim-sugars_400.csv', index_col=0)\n",
    "nim_vitamins = pd.read_csv('data/nim-vitamins_400.csv', index_col=0)\n",
    "taxonomy = pd.read_csv('data/taxonomy_400.csv', index_col=0)\n",
    "taxonomy = taxonomy.replace('%', '', regex = True).astype(np.float64)"
   ]
  },
  {
   "cell_type": "code",
   "execution_count": 16,
   "id": "2aab9d63",
   "metadata": {},
   "outputs": [],
   "source": [
    "#merging all NIMs into one\n",
    "nim = nim_aminoacids.merge(nim_aminoacidsD, how = 'inner', on = 'taxonomy')\n",
    "nim = nim.merge(nim_sugars, how = 'inner', on = 'taxonomy')\n",
    "nim = nim.merge(nim_vitamins, how = 'inner', on = 'taxonomy')"
   ]
  },
  {
   "cell_type": "code",
   "execution_count": 17,
   "id": "c6f91463",
   "metadata": {},
   "outputs": [],
   "source": [
    "#Separating out normal & deviant sample-ids\n",
    "normal = metadata.loc[metadata.group=='NORMAL']\n",
    "normal = normal.drop(['group'], axis = 1)\n",
    "normal_ids = normal.to_numpy()\n",
    "#Flatten (un)necessary(?)\n",
    "#normal_id = normal_id.flatten()\n",
    "deviant = metadata.loc[metadata.group=='DEVIANT']\n",
    "deviant = deviant.drop(['group'], axis = 1)\n",
    "deviant_ids = deviant.to_numpy()\n",
    "#Flatten (un)necessary(?)\n",
    "#deviant_id = deviant_id.flatten()"
   ]
  },
  {
   "cell_type": "code",
   "execution_count": 26,
   "id": "c179dbd0",
   "metadata": {},
   "outputs": [],
   "source": [
    "#usage for ids array created above. \n",
    "normal_taxonomy = taxonomy[normal_ids.reshape(-1)]\n",
    "deviant_taxonomy = taxonomy[deviant_ids.reshape(-1)]\n",
    "normal_taxonomy = normal_taxonomy.to_numpy()\n",
    "deviant_taxonomy = deviant_taxonomy.to_numpy()"
   ]
  },
  {
   "cell_type": "code",
   "execution_count": 27,
   "id": "715a7bb7",
   "metadata": {},
   "outputs": [
    {
     "name": "stdout",
     "output_type": "stream",
     "text": [
      "5.4 18.3\n"
     ]
    }
   ],
   "source": [
    "#compute percentile for specific microbe\n",
    "vlow_test = np.percentile(normal_taxonomy[0],10)\n",
    "vhigh_test = np.percentile(normal_taxonomy[0],90)\n",
    "print(vlow_test, vhigh_test)"
   ]
  },
  {
   "cell_type": "code",
   "execution_count": 41,
   "id": "5deb7973",
   "metadata": {},
   "outputs": [
    {
     "name": "stdout",
     "output_type": "stream",
     "text": [
      "0.40000000000000036 23.3\n"
     ]
    }
   ],
   "source": [
    "#store vhigh/ vlow in arrays\n",
    "vlow = np.percentile(normal_taxonomy, 10, axis=1) - 5\n",
    "vhigh = np.percentile(normal_taxonomy, 90, axis=1) + 5\n",
    "print(vlow[0], vhigh[0])"
   ]
  },
  {
   "cell_type": "code",
   "execution_count": 44,
   "id": "bb0cd277",
   "metadata": {},
   "outputs": [
    {
     "name": "stdout",
     "output_type": "stream",
     "text": [
      "[0 1 0 ... 3 0 1]\n",
      "[ 5  8  2  2  5  1  5  3  4  6  3  5  4  4  2  4  4  4  6  3  2  4  4  3\n",
      "  7  2  2  5  3  3  7  3  4  2  6  1  3  2  6  4  2  4  3  2  3  6  5  4\n",
      "  3  4  4  5  6  5 11  6  7  8  6  7  5  7  6  8  8  7  5  8  8  6  7  5\n",
      "  8  6  5  8  7  6  8  8  7  5 10  6  5  8  7  8  9  6  2  3  2  3  2  2\n",
      "  3  5  3  1  1  7  1  1  2  3  3  4  1  1  2  4  3  4  1  7  3  4  5  6\n",
      "  3  1  2  8  2  1  3  3  1  2  4  4  4  2  5  1  4  3  1  1  7  5]\n"
     ]
    }
   ],
   "source": [
    "def violations(u):\n",
    "    if len(u.shape) == 1:\n",
    "        u = u[np.newaxis, :]\n",
    "    assert u.shape[1] == len(vlow) == len(vhigh)\n",
    "    u = u / u.sum(axis=1, keepdims=True) * 100\n",
    "    vio_low = u < vlow[np.newaxis, :]\n",
    "    vio_high = u > vhigh[np.newaxis, :]\n",
    "    vio = (vio_low | vio_high).astype(np.int32).sum(axis=1)\n",
    "    return vio\n",
    "print(violations(normal_taxonomy.transpose((1, 0))))\n",
    "print(violations(deviant_taxonomy.transpose((1, 0))))"
   ]
  },
  {
   "cell_type": "code",
   "execution_count": 38,
   "id": "7c100f5a",
   "metadata": {},
   "outputs": [
    {
     "name": "stdout",
     "output_type": "stream",
     "text": [
      "[13.3 12.6  0.   6.7  3.   0.   0.9  0.1  0.   0.8  1.   0.5  0.9  0.6\n",
      "  0.8  0.   5.3  0.7  0.   0.5  1.   0.   0.4  0.   0.6  0.   0.   0.5\n",
      "  0.6  0.   0.5  3.5  0.   3.3  1.7  0.   0.   0.4  0.8  0.3  0.   0.\n",
      "  0.   0.1  0.   3.6  0.   0.5  0.   0.4  0.   0.   3.9  0.   2.6  0.\n",
      "  0.4  0.1  0.   0.   0.   0.   0.   0.   0.2  0.   0.1  1.1  0.   0.6\n",
      "  0.5  0.   0.1  0.   0.2  0.   0.9  0.2  0.   0.1  0.   1.2  0.   0.\n",
      "  0.4  0.6  0.   0.   0.4  0.   0.   0.   0.   0.   1.6  0.1  0.3  0.1\n",
      "  0.   0.   0.   0.   0.5  0.1  0.   0.   0.   0.   0.8  0.   0.   0.\n",
      "  1.6  0.1  0.   0.2  0.   0.1  0.2  0.   0.   0.   0.   0.1  0.   0.\n",
      "  0.1  0.   0.   0.   0.   0.   0.   0.   0.   0.   0.   0.   0.   0.\n",
      "  0.   0.   0.   0.   0.   0.   0.   0.   4.2  0.   0.7  0.   0.1  0.1\n",
      "  0.   0.   0.   0.   0.4  0.   0.   0.3  0.   0.   0.   0.   0.   0.\n",
      "  0.   0.   0.   0.   0.   0.   0.4  0.   0.2  0.   0.   0.   0.   0.\n",
      "  0.   0.   0.   0.   0.   0.3  0.   0.   0.   0.   0.   0.   0.   0.\n",
      "  0.   0.   0.   0.1  0.   0.   0.   0.   0.   0.   0.   0.2  0.   0.\n",
      "  0.   0.   0.   0.   0.   0.   0.   0.   0.   0.   0.   0.1  0.   0.\n",
      "  0.   0.1  0.   0.   0.   0.   0.   0.   0.   0.   0.   0.   0.   0.\n",
      "  0.   0.   0.   0.   0.   0.   0.   0.   0.   0.   0.   0.   0.   0.\n",
      "  0.   0.1  0.   0.   0.   0.   0.   0.   0.   0.   0.   0.   0.   0.\n",
      "  0.   0.   0.   0.   0.   0.   0.   0.   0.   0.   0.   0.   0.   0.\n",
      "  0.   0.   0.   0.   0.   0.   0.   0.   0.   0.   0.   0.   0.   0.\n",
      "  0.   0.   0.   0.   0.   0.3  0.   0.   0.   0.   0.   0.   0.   0.\n",
      "  0.   0.   0.   0.   0.   0.   0.   0.   0.   0.   0.   0.   0.   0.\n",
      "  0.   0.   0.   0.   0.   0.   0.   0.   0.   0.   0.   0.   0.   0.\n",
      "  0.   0.   0.   0.   0.   0.   0.   0.   0.   0.   0.   0.   0.   0.\n",
      "  0.   0.   0.   0.   0.   0.   0.   0.   0.   0.   0.   1.8  0.   0.\n",
      "  0.   0.   0.   0.   0.   0.   0.   0.   0.   0.   0.   0.   0.1  0.\n",
      "  0.   0.   0.   0.   0.   0.   0.   0.   0.   0.   0.   0.   0.   0.\n",
      "  0.   0.   0.   0.   0.   0.   0.   0. ]\n",
      "[ 5.   0.3  0.   0.   0.4  0.   0.1  0.   0.  11.9  0.   0.   0.   0.8\n",
      "  0.   0.   0.   0.   0.   0.4  0.1  0.   6.   0.   0.   0.   0.   0.\n",
      "  0.   0.   0.   0.   0.   0.  17.7  0.   0.   3.4  0.   0.   0.   0.\n",
      "  0.   0.   0.   0.   0.   2.7  0.   0.   0.   0.8  0.   0.   0.   0.\n",
      "  0.   0.1  0.   0.   5.8  0.   0.   0.   0.   0.   6.5  0.   0.4  0.\n",
      "  0.   0.   0.   0.   0.   0.   0.   0.1  0.   0.   0.   0.   0.   0.\n",
      "  0.   0.   0.   0.   0.   0.   0.   0.1  0.   0.   0.   0.   0.   0.\n",
      "  0.2  0.   0.   0.   0.   0.   0.   0.   0.   0.   0.   0.   0.   0.\n",
      "  0.   0.   4.5  0.   0.   0.   0.6  0.   0.   0.   0.   0.   0.   0.\n",
      "  0.   0.   0.   0.   0.   0.   0.   0.   0.   0.   0.   0.   0.   0.\n",
      "  0.   0.   0.   0.   0.   0.   0.   0.   0.   0.   0.   0.4  0.   0.\n",
      "  0.   0.   0.   0.1  0.2  0.   0.   0.   0.   0.   0.   0.   0.   0.\n",
      "  0.   0.2  0.   0.   0.   0.   0.   0.   0.   0.   0.   0.   0.   0.\n",
      "  0.   0.   0.   0.   0.   0.   0.   0.   0.   0.   0.2  0.   0.   0.7\n",
      "  0.   0.   0.   0.   0.   0.   0.   0.   0.   0.   0.   0.   0.   0.\n",
      "  0.   0.   0.1 11.5  0.   0.1  0.   1.5  0.   0.3  0.   0.   0.   0.\n",
      "  0.   0.   0.   0.   0.   0.   0.   0.   0.2  0.   0.   0.   0.   0.\n",
      "  0.   0.   0.   0.   0.   0.   0.   0.   0.   0.   0.   0.   0.3  0.\n",
      "  0.   0.   0.   0.   0.1  0.   0.   0.   0.   0.   0.   0.   0.   0.\n",
      "  0.   0.   0.   0.   4.1  0.   0.   0.   0.   0.   0.   0.   0.   0.\n",
      "  0.   0.   0.   0.   0.   0.   0.   0.   0.   0.   0.   0.   0.   0.\n",
      "  0.   0.   0.1  0.   0.   0.   0.   0.   0.   0.1  0.   0.   0.   0.\n",
      "  0.   0.8  0.   0.   0.   0.   0.   0.   0.   1.3  0.   0.   0.   0.\n",
      "  0.   0.7  0.   0.   0.   0.   0.   0.   0.   0.   0.   0.   0.   0.\n",
      "  0.   0.   0.   0.   0.   0.   0.   0.   0.   0.   0.   0.   0.1  0.\n",
      "  0.   0.   0.   0.   0.   1.7  0.   0.   0.   0.   0.   0.   0.   0.\n",
      "  0.   0.   0.   0.   0.   0.   0.   0.   0.   0.   0.   0.   0.   0.\n",
      "  0.   0.   0.   0.   0.   0.4  0.   0.   0.   0.   0.   0.   0.   0.\n",
      "  0.   0.   0.   0.   0.   0.   0.   0.1]\n"
     ]
    }
   ],
   "source": [
    "print(normal_taxonomy[:, 0])\n",
    "print(deviant_taxonomy[:, 0])"
   ]
  }
 ],
 "metadata": {
  "kernelspec": {
   "display_name": "base",
   "language": "python",
   "name": "python3"
  },
  "language_info": {
   "codemirror_mode": {
    "name": "ipython",
    "version": 3
   },
   "file_extension": ".py",
   "mimetype": "text/x-python",
   "name": "python",
   "nbconvert_exporter": "python",
   "pygments_lexer": "ipython3",
   "version": "3.9.7"
  },
  "vscode": {
   "interpreter": {
    "hash": "87a28ec24bc48c27cf639f7c413a0af2e3ac11621f91c4d6a57579ea24e75e61"
   }
  }
 },
 "nbformat": 4,
 "nbformat_minor": 5
}
