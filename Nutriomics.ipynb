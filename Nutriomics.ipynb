{
 "cells": [
  {
   "cell_type": "code",
   "execution_count": 2,
   "id": "b39354d4",
   "metadata": {
    "scrolled": true
   },
   "outputs": [],
   "source": [
    "import pandas as pd"
   ]
  },
  {
   "cell_type": "code",
   "execution_count": 94,
   "id": "b0b82149",
   "metadata": {},
   "outputs": [],
   "source": [
    "metadata = pd.read_csv('data\\metadata.csv', usecols = ['sample-id', 'group'])\n",
    "nim_aminoacids = pd.read_csv('data/nim-aminoacids_400.csv', index_col=0)\n",
    "#Per data description, limit the choice of amino acids as nutrients by the first 6\n",
    "nim_aminoacids = nim_aminoacids.drop(nim_aminoacids.iloc[:, 7:], axis = 1)\n",
    "nim_aminoacidsD = pd.read_csv('data/nim-aminoacidsD_400.csv', index_col=0)\n",
    "nim_sugars = pd.read_csv('data/nim-sugars_400.csv', index_col=0)\n",
    "nim_vitamins = pd.read_csv('data/nim-vitamins_400.csv', index_col=0)\n",
    "taxonomy = pd.read_csv('data/taxonomy_400.csv', index_col=0)"
   ]
  },
  {
   "cell_type": "code",
   "execution_count": 61,
   "id": "2aab9d63",
   "metadata": {},
   "outputs": [],
   "source": [
    "#merging all NIMs into one\n",
    "nim = nim_aminoacids.merge(nim_aminoacidsD, how = 'inner', on = 'taxonomy')\n",
    "nim = nim.merge(nim_sugars, how = 'inner', on = 'taxonomy')\n",
    "nim = nim.merge(nim_vitamins, how = 'inner', on = 'taxonomy')"
   ]
  },
  {
   "cell_type": "code",
   "execution_count": 117,
   "id": "c6f91463",
   "metadata": {},
   "outputs": [],
   "source": [
    "#Separating out normal & deviant sample-ids\n",
    "normal = metadata.loc[metadata.group=='NORMAL']\n",
    "normal = normal.drop(['group'], axis = 1)\n",
    "normal_ids = normal.to_numpy()\n",
    "#Flatten (un)necessary(?)\n",
    "#normal_id = normal_id.flatten()\n",
    "deviant = metadata.loc[metadata.group=='DEVIANT']\n",
    "deviant = deviant.drop(['group'], axis = 1)\n",
    "deviant_ids = deviant.to_numpy()\n",
    "#Flatten (un)necessary(?)\n",
    "#deviant_id = deviant_id.flatten()"
   ]
  },
  {
   "cell_type": "code",
   "execution_count": 118,
   "id": "4539ca17",
   "metadata": {},
   "outputs": [
    {
     "data": {
      "text/html": [
       "<div>\n",
       "<style scoped>\n",
       "    .dataframe tbody tr th:only-of-type {\n",
       "        vertical-align: middle;\n",
       "    }\n",
       "\n",
       "    .dataframe tbody tr th {\n",
       "        vertical-align: top;\n",
       "    }\n",
       "\n",
       "    .dataframe thead th {\n",
       "        text-align: right;\n",
       "    }\n",
       "</style>\n",
       "<table border=\"1\" class=\"dataframe\">\n",
       "  <thead>\n",
       "    <tr style=\"text-align: right;\">\n",
       "      <th></th>\n",
       "      <th>ERR1072712</th>\n",
       "    </tr>\n",
       "    <tr>\n",
       "      <th>taxonomy</th>\n",
       "      <th></th>\n",
       "    </tr>\n",
       "  </thead>\n",
       "  <tbody>\n",
       "    <tr>\n",
       "      <th>Faecalibacterium prausnitzii</th>\n",
       "      <td>5.00%</td>\n",
       "    </tr>\n",
       "    <tr>\n",
       "      <th>Phocaeicola vulgatus</th>\n",
       "      <td>0.30%</td>\n",
       "    </tr>\n",
       "    <tr>\n",
       "      <th>Prevotella copri</th>\n",
       "      <td>0.00%</td>\n",
       "    </tr>\n",
       "    <tr>\n",
       "      <th>Bacteroides uniformis</th>\n",
       "      <td>0.00%</td>\n",
       "    </tr>\n",
       "    <tr>\n",
       "      <th>[Eubacterium] rectale</th>\n",
       "      <td>0.40%</td>\n",
       "    </tr>\n",
       "    <tr>\n",
       "      <th>...</th>\n",
       "      <td>...</td>\n",
       "    </tr>\n",
       "    <tr>\n",
       "      <th>Bacteroides caccae/Bacteroides intestinalis/Alloprevotella rava</th>\n",
       "      <td>0.00%</td>\n",
       "    </tr>\n",
       "    <tr>\n",
       "      <th>Ruthenibacterium lactatiformans/Fournierella massiliensis</th>\n",
       "      <td>0.00%</td>\n",
       "    </tr>\n",
       "    <tr>\n",
       "      <th>Stenotrophomonas geniculata/maltophilia/pavanii</th>\n",
       "      <td>0.00%</td>\n",
       "    </tr>\n",
       "    <tr>\n",
       "      <th>Tepidibaculum saccharolyticum/Ruminococcus albus</th>\n",
       "      <td>0.00%</td>\n",
       "    </tr>\n",
       "    <tr>\n",
       "      <th>Sellimonas intestinalis/Drancourtella massiliensis</th>\n",
       "      <td>0.10%</td>\n",
       "    </tr>\n",
       "  </tbody>\n",
       "</table>\n",
       "<p>400 rows × 1 columns</p>\n",
       "</div>"
      ],
      "text/plain": [
       "                                                   ERR1072712\n",
       "taxonomy                                                     \n",
       "Faecalibacterium prausnitzii                            5.00%\n",
       "Phocaeicola vulgatus                                    0.30%\n",
       "Prevotella copri                                        0.00%\n",
       "Bacteroides uniformis                                   0.00%\n",
       "[Eubacterium] rectale                                   0.40%\n",
       "...                                                       ...\n",
       "Bacteroides caccae/Bacteroides intestinalis/All...      0.00%\n",
       "Ruthenibacterium lactatiformans/Fournierella ma...      0.00%\n",
       "Stenotrophomonas geniculata/maltophilia/pavanii         0.00%\n",
       "Tepidibaculum saccharolyticum/Ruminococcus albus        0.00%\n",
       "Sellimonas intestinalis/Drancourtella massiliensis      0.10%\n",
       "\n",
       "[400 rows x 1 columns]"
      ]
     },
     "execution_count": 118,
     "metadata": {},
     "output_type": "execute_result"
    }
   ],
   "source": [
    "#usage for ids array created above. \n",
    "taxonomy[deviant_ids[0]]"
   ]
  },
  {
   "cell_type": "code",
   "execution_count": null,
   "id": "d7d2795a",
   "metadata": {},
   "outputs": [],
   "source": []
  }
 ],
 "metadata": {
  "kernelspec": {
   "display_name": "Python 3 (ipykernel)",
   "language": "python",
   "name": "python3"
  },
  "language_info": {
   "codemirror_mode": {
    "name": "ipython",
    "version": 3
   },
   "file_extension": ".py",
   "mimetype": "text/x-python",
   "name": "python",
   "nbconvert_exporter": "python",
   "pygments_lexer": "ipython3",
   "version": "3.9.12"
  }
 },
 "nbformat": 4,
 "nbformat_minor": 5
}
