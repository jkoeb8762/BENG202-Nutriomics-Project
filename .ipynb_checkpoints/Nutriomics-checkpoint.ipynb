{
 "cells": [
  {
   "cell_type": "code",
   "execution_count": 14,
   "id": "b39354d4",
   "metadata": {
    "scrolled": true
   },
   "outputs": [],
   "source": [
    "import pandas as pd"
   ]
  },
  {
   "cell_type": "code",
   "execution_count": 66,
   "id": "b0b82149",
   "metadata": {},
   "outputs": [],
   "source": [
    "metadata = pd.read_csv('data\\metadata.csv', usecols = ['sample-id', 'group'], index_col=0)\n",
    "nim_aminoacids = pd.read_csv('data/nim-aminoacids_400.csv', index_col=0)\n",
    "#Per data description, limit the choice of amino acids as nutrients by the first 6\n",
    "nim_aminoacids = nim_aminoacids.drop(nim_aminoacids.iloc[:, 7:], axis = 1)\n",
    "nim_aminoacidsD = pd.read_csv('data/nim-aminoacidsD_400.csv', index_col=0)\n",
    "nim_sugars = pd.read_csv('data/nim-sugars_400.csv', index_col=0)\n",
    "nim_vitamins = pd.read_csv('data/nim-vitamins_400.csv', index_col=0)\n",
    "taxonomy = pd.read_csv('data/taxonomy_400.csv', index_col=0)"
   ]
  },
  {
   "cell_type": "code",
   "execution_count": 53,
   "id": "2aab9d63",
   "metadata": {},
   "outputs": [],
   "source": [
    "#merging all NIMs into one\n",
    "nim = nim_aminoacids.merge(nim_aminoacidsD, how = 'inner', on = 'taxonomy')\n",
    "nim = nim.merge(nim_sugars, how = 'inner', on = 'taxonomy')\n",
    "nim = nim.merge(nim_vitamins, how = 'inner', on = 'taxonomy')"
   ]
  },
  {
   "cell_type": "code",
   "execution_count": 68,
   "id": "c6f91463",
   "metadata": {},
   "outputs": [],
   "source": [
    "#Separating out normal & deviant sample-ids\n",
    "normal = metadata.loc[metadata.group=='NORMAL']\n",
    "deviant = metadata.loc[metadata.group=='DEVIANT']"
   ]
  }
 ],
 "metadata": {
  "kernelspec": {
   "display_name": "Python 3 (ipykernel)",
   "language": "python",
   "name": "python3"
  },
  "language_info": {
   "codemirror_mode": {
    "name": "ipython",
    "version": 3
   },
   "file_extension": ".py",
   "mimetype": "text/x-python",
   "name": "python",
   "nbconvert_exporter": "python",
   "pygments_lexer": "ipython3",
   "version": "3.9.12"
  }
 },
 "nbformat": 4,
 "nbformat_minor": 5
}
