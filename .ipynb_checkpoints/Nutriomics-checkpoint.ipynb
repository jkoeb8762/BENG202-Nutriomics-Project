{
 "cells": [
  {
   "cell_type": "code",
   "execution_count": 1,
   "id": "b39354d4",
   "metadata": {
    "scrolled": true
   },
   "outputs": [],
   "source": [
    "import pandas as pd\n",
    "import numpy as np"
   ]
  },
  {
   "cell_type": "code",
   "execution_count": 2,
   "id": "380ba60c",
   "metadata": {},
   "outputs": [],
   "source": [
    "def p2f(x):\n",
    "    return (float(x.strip('%'))/100 for col in columns)"
   ]
  },
  {
   "cell_type": "code",
   "execution_count": 3,
   "id": "b0b82149",
   "metadata": {},
   "outputs": [],
   "source": [
    "metadata = pd.read_csv('data\\metadata.csv', usecols = ['sample-id', 'group'])\n",
    "nim_aminoacids = pd.read_csv('data/nim-aminoacids_400.csv', index_col=0)\n",
    "#Per data description, limit the choice of amino acids as nutrients by the first 6\n",
    "nim_aminoacids = nim_aminoacids.drop(nim_aminoacids.iloc[:, 7:], axis = 1)\n",
    "nim_aminoacidsD = pd.read_csv('data/nim-aminoacidsD_400.csv', index_col=0)\n",
    "nim_sugars = pd.read_csv('data/nim-sugars_400.csv', index_col=0)\n",
    "nim_vitamins = pd.read_csv('data/nim-vitamins_400.csv', index_col=0)\n",
    "taxonomy = pd.read_csv('data/taxonomy_400.csv', index_col=0)\n",
    "taxonomy = taxonomy.replace('%', '', regex = True)\n",
    "taxonomy = taxonomy.astype(np.float64)"
   ]
  },
  {
   "cell_type": "code",
   "execution_count": 4,
   "id": "2aab9d63",
   "metadata": {},
   "outputs": [],
   "source": [
    "#merging all NIMs into one\n",
    "nim = nim_aminoacids.merge(nim_aminoacidsD, how = 'inner', on = 'taxonomy')\n",
    "nim = nim.merge(nim_sugars, how = 'inner', on = 'taxonomy')\n",
    "nim = nim.merge(nim_vitamins, how = 'inner', on = 'taxonomy')"
   ]
  },
  {
   "cell_type": "code",
   "execution_count": 5,
   "id": "c6f91463",
   "metadata": {},
   "outputs": [],
   "source": [
    "#Separating out normal & deviant sample-ids\n",
    "normal = metadata.loc[metadata.group=='NORMAL']\n",
    "normal = normal.drop(['group'], axis = 1)\n",
    "normal_ids = normal.to_numpy()\n",
    "#Flatten (un)necessary(?)\n",
    "#normal_id = normal_id.flatten()\n",
    "deviant = metadata.loc[metadata.group=='DEVIANT']\n",
    "deviant = deviant.drop(['group'], axis = 1)\n",
    "deviant_ids = deviant.to_numpy()\n",
    "#Flatten (un)necessary(?)\n",
    "#deviant_id = deviant_id.flatten()"
   ]
  },
  {
   "cell_type": "code",
   "execution_count": 11,
   "id": "c179dbd0",
   "metadata": {},
   "outputs": [],
   "source": [
    "#usage for ids array created above. \n",
    "working = taxonomy.to_numpy()\n",
    "working = working.tolist()"
   ]
  },
  {
   "cell_type": "code",
   "execution_count": 7,
   "id": "715a7bb7",
   "metadata": {},
   "outputs": [
    {
     "name": "stdout",
     "output_type": "stream",
     "text": [
      "2.1 21.2\n"
     ]
    }
   ],
   "source": [
    "#compute percentile for specific microbe\n",
    "vlow_test = np.percentile(working[0],10)\n",
    "vhigh_test = np.percentile(working[0],90)\n",
    "print(vlow_test, vhigh_test)"
   ]
  },
  {
   "cell_type": "code",
   "execution_count": 20,
   "id": "5deb7973",
   "metadata": {},
   "outputs": [],
   "source": [
    "#store vhigh/ vlow in arrays\n",
    "vlow = []\n",
    "vhigh = []\n",
    "n = len(working)\n",
    "for i in range(n-1):\n",
    "    vlow.append(np.percentile(working[i],10))\n",
    "    vhigh.append(np.percentile(working[i],90))"
   ]
  }
 ],
 "metadata": {
  "kernelspec": {
   "display_name": "Python 3 (ipykernel)",
   "language": "python",
   "name": "python3"
  },
  "language_info": {
   "codemirror_mode": {
    "name": "ipython",
    "version": 3
   },
   "file_extension": ".py",
   "mimetype": "text/x-python",
   "name": "python",
   "nbconvert_exporter": "python",
   "pygments_lexer": "ipython3",
   "version": "3.9.12"
  }
 },
 "nbformat": 4,
 "nbformat_minor": 5
}
